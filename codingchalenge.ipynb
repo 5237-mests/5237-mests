{
  "nbformat": 4,
  "nbformat_minor": 0,
  "metadata": {
    "colab": {
      "provenance": [],
      "include_colab_link": true
    },
    "kernelspec": {
      "name": "python3",
      "display_name": "Python 3"
    },
    "language_info": {
      "name": "python"
    }
  },
  "cells": [
    {
      "cell_type": "markdown",
      "metadata": {
        "id": "view-in-github",
        "colab_type": "text"
      },
      "source": [
        "<a href=\"https://colab.research.google.com/github/5237-mests/5237-mests/blob/main/codingchalenge.ipynb\" target=\"_parent\"><img src=\"https://colab.research.google.com/assets/colab-badge.svg\" alt=\"Open In Colab\"/></a>"
      ]
    },
    {
      "cell_type": "markdown",
      "source": [
        "# Coding Challenge"
      ],
      "metadata": {
        "id": "JWjUrttyAm2e"
      }
    },
    {
      "cell_type": "code",
      "source": [
        "#"
      ],
      "metadata": {
        "id": "NzhpywvhArXO"
      },
      "execution_count": null,
      "outputs": []
    },
    {
      "cell_type": "markdown",
      "source": [
        "1.   Question1:\n",
        "Write a Python function that takes a sorted list of numbers and a target value as input and\n",
        "returns the index of the target value if found, otherwise returns -1 (Please use binary search)\n",
        "\n",
        "\n",
        "2.   Question2:\n",
        "Write a Python function factorial(n) that calculates the factorial of a non-negative integer n\n",
        "using recursion. Additionally, ensure that the function raises a ValueError if the input n is not\n",
        "a non-negative integer.\n",
        "\n",
        "2.   Question 3:\n",
        "Write a function that takes an integer input and returns the sum of its digits.\n",
        "\n",
        "\n",
        "4.   Question 4:\n",
        "Word Count in Text File: Write a program to count the occurrences of each word in a given\n",
        "text file. Rotate: Modify the program to exclude common stop words from the word count.\n",
        "There should be 4 function named as read_text_from_file(file_path), count_words(text),\n",
        "print_word_count(word_count) and main(file_path).\n",
        "2.   Question 5:\n",
        "Given a string s consisting of lowercase alphabets, your task is to compress it in the most\n",
        "efficient manner possible. The compression should be done such that if the compressed\n",
        "string is longer than the original string, then return the original string.\n",
        "The compression rule is as follows:\n",
        "If a character c appears consecutively in the string, then it should be replaced by c followed\n",
        "by the number of consecutive occurrences of c.\n",
        "For example:\n",
        "\"aabcccccaaa\" should be compressed to \"a2b1c5a3\".\n",
        "\"abc\" should remain as \"abc\" as the compressed version is longer.\n",
        "Write a function compress_string(s: str) -> str to accomplish this task. Constraints:\n",
        "The input string s consists of only lowercase English letters.\n",
        "The length of input string is between 1 and 10^4."
      ],
      "metadata": {
        "id": "1HBqnBa-BA-p"
      }
    },
    {
      "cell_type": "code",
      "source": [
        "# 1\n",
        "def return_index(lst, target):\n",
        "  print(\"hello\")\n",
        "\n",
        "return_index([1,2,3,4,5,6,7,8,9], 5)"
      ],
      "metadata": {
        "id": "Pg2PL_aTB4pd"
      },
      "execution_count": null,
      "outputs": []
    }
  ]
}