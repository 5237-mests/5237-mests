{
  "nbformat": 4,
  "nbformat_minor": 0,
  "metadata": {
    "colab": {
      "provenance": [],
      "include_colab_link": true
    },
    "kernelspec": {
      "name": "python3",
      "display_name": "Python 3"
    },
    "language_info": {
      "name": "python"
    }
  },
  "cells": [
    {
      "cell_type": "markdown",
      "metadata": {
        "id": "view-in-github",
        "colab_type": "text"
      },
      "source": [
        "<a href=\"https://colab.research.google.com/github/5237-mests/5237-mests/blob/main/codingchalenge.ipynb\" target=\"_parent\"><img src=\"https://colab.research.google.com/assets/colab-badge.svg\" alt=\"Open In Colab\"/></a>"
      ]
    },
    {
      "cell_type": "markdown",
      "source": [
        "# Coding Challenge"
      ],
      "metadata": {
        "id": "JWjUrttyAm2e"
      }
    },
    {
      "cell_type": "code",
      "source": [
        "#"
      ],
      "metadata": {
        "id": "NzhpywvhArXO"
      },
      "execution_count": null,
      "outputs": []
    },
    {
      "cell_type": "markdown",
      "source": [
        "1.   Question1:\n",
        "Write a Python function that takes a sorted list of numbers and a target value as input and\n",
        "returns the index of the target value if found, otherwise returns -1 (Please use binary search)\n",
        "\n",
        "\n",
        "2.   Question2:\n",
        "Write a Python function factorial(n) that calculates the factorial of a non-negative integer n\n",
        "using recursion. Additionally, ensure that the function raises a ValueError if the input n is not\n",
        "a non-negative integer.\n",
        "\n",
        "2.   Question 3:\n",
        "Write a function that takes an integer input and returns the sum of its digits.\n",
        "\n",
        "\n",
        "4.   Question 4:\n",
        "Word Count in Text File: Write a program to count the occurrences of each word in a given\n",
        "text file. Rotate: Modify the program to exclude common stop words from the word count.\n",
        "There should be 4 function named as read_text_from_file(file_path), count_words(text),\n",
        "print_word_count(word_count) and main(file_path).\n",
        "2.   Question 5:\n",
        "Given a string s consisting of lowercase alphabets, your task is to compress it in the most\n",
        "efficient manner possible. The compression should be done such that if the compressed\n",
        "string is longer than the original string, then return the original string.\n",
        "The compression rule is as follows:\n",
        "If a character c appears consecutively in the string, then it should be replaced by c followed\n",
        "by the number of consecutive occurrences of c.\n",
        "For example:\n",
        "\"aabcccccaaa\" should be compressed to \"a2b1c5a3\".\n",
        "\"abc\" should remain as \"abc\" as the compressed version is longer.\n",
        "Write a function compress_string(s: str) -> str to accomplish this task. Constraints:\n",
        "The input string s consists of only lowercase English letters.\n",
        "The length of input string is between 1 and 10^4."
      ],
      "metadata": {
        "id": "1HBqnBa-BA-p"
      }
    },
    {
      "cell_type": "code",
      "source": [
        "# 1 shortest way\n",
        "def return_index_short(lst, target):\n",
        "  try:\n",
        "    return lst.index(target)\n",
        "  except ValueError:\n",
        "    return -1\n",
        "\n",
        "print(return_index_short([1,2,3,4,5,6,7,8,9], 50))"
      ],
      "metadata": {
        "collapsed": true,
        "id": "Pg2PL_aTB4pd"
      },
      "execution_count": null,
      "outputs": []
    },
    {
      "cell_type": "code",
      "source": [
        "#1 using binary search\n",
        "def return_index_binary(lst, target):\n",
        "  if target not in lst:\n",
        "    return -1\n",
        "  low = 0\n",
        "  high = len(lst) - 1\n",
        "  while low <= high:\n",
        "    mid = (low + high) // 2\n",
        "    # Use lst[mid] instead of list[mid] to access the element\n",
        "    print(lst[mid] == target)\n",
        "    if lst[mid] == target:\n",
        "      return mid\n",
        "    elif lst[mid] < target:\n",
        "      low = mid + 1\n",
        "    else:\n",
        "      high = mid - 1\n",
        "print(return_index_binary([1,2,3,4,5,6,7,8,9], 6))"
      ],
      "metadata": {
        "id": "2y6l1GjlJd7K"
      },
      "execution_count": null,
      "outputs": []
    },
    {
      "cell_type": "code",
      "source": [
        "# 2\n",
        "def factorial(n):\n",
        "  if not isinstance(n, int) or n < 0:\n",
        "    raise ValueError(\"Input must be a non-negative integer.\")\n",
        "  if n == 0:\n",
        "    return 1\n",
        "  return n * factorial(n - 1)\n",
        "print(factorial(5))"
      ],
      "metadata": {
        "id": "CfJUnAF9aInJ",
        "outputId": "d9802815-02c7-427f-deda-3378679bf633",
        "colab": {
          "base_uri": "https://localhost:8080/"
        }
      },
      "execution_count": 48,
      "outputs": [
        {
          "output_type": "stream",
          "name": "stdout",
          "text": [
            "120\n"
          ]
        }
      ]
    },
    {
      "cell_type": "code",
      "source": [
        "# 3\n",
        "def sum_of_digits(n):\n",
        "  if not isinstance(n, int):\n",
        "    raise ValueError(\"Input must be a non-negative integer.\")\n",
        "  n = abs(n)\n",
        "  if n == 0:\n",
        "    return 0\n",
        "  return n % 10 + sum_of_digits(n // 10)\n",
        "print(sum_of_digits(-1234))"
      ],
      "metadata": {
        "id": "H56lKjxcbpSz",
        "outputId": "6206289e-a60b-4413-9dfb-eed322986fe8",
        "colab": {
          "base_uri": "https://localhost:8080/"
        }
      },
      "execution_count": 51,
      "outputs": [
        {
          "output_type": "stream",
          "name": "stdout",
          "text": [
            "10\n"
          ]
        }
      ]
    },
    {
      "cell_type": "code",
      "source": [
        "# 4\n",
        "import os\n",
        "import re\n",
        "from collections import Counter\n",
        "\n",
        "def read_text_from_file(file_path):\n",
        "  \"\"\"Reads text from a file.\"\"\"\n",
        "  try:\n",
        "    with open(file_path, 'r') as file:\n",
        "      text = file.read()\n",
        "    return text\n",
        "  except FileNotFoundError:\n",
        "    print(f\"Error: File '{file_path}' not found.\")\n",
        "    return None\n",
        "\n",
        "def count_words(text):\n",
        "  \"\"\"Counts word occurrences, excluding stop words.\"\"\"\n",
        "  stop_words = set(['the', 'a', 'an', 'in', 'on', 'at', 'to', 'of', 'for', 'by', 'with', 'is', 'are', 'was', 'were', 'be', 'been', 'being', 'have', 'has', 'had', 'do', 'does', 'did', 'will', 'would', 'should', 'can', 'could', 'may', 'might', 'must', 'this', 'that', 'these', 'those', 'i', 'me', 'my', 'mine', 'we', 'us', 'our', 'ours', 'you', 'your', 'yours', 'he', 'him', 'his', 'she', 'her', 'hers', 'it', 'its', 'they', 'them', 'their', 'theirs', 'and', 'or', 'but', 'not', 'no', 'nor', 'so', 'yet', 'as', 'if', 'than', 'because', 'while', 'when', 'where', 'how', 'all', 'any', 'both', 'each', 'few', 'more', 'most', 'other', 'some', 'such', 'no', 'nor', 'not', 'only', 'own', 'same', 'so', 'than', 'too', 'very', 's', 't', 'can', 'will', 'just', 'don', 'should', 'now'])  # Add more stop words as needed\n",
        "\n",
        "  words = re.findall(r'\\b\\w+\\b', text.lower()) # Extract words using regular expressions\n",
        "  word_counts = Counter(word for word in words if word not in stop_words)\n",
        "  return word_counts\n",
        "\n",
        "def print_word_count(word_count):\n",
        "  \"\"\"Prints word counts.\"\"\"\n",
        "  for word, count in word_count.items():\n",
        "    print(f\"{word}: {count}\")\n",
        "\n",
        "def main(file_path):\n",
        "  \"\"\"Main function to orchestrate word counting.\"\"\"\n",
        "  text = read_text_from_file(file_path)\n",
        "  if text:\n",
        "    word_counts = count_words(text)\n",
        "    print_word_count(word_counts)\n",
        "\n",
        "# Example usage:\n",
        "# Get the current working directory path\n",
        "current_directory = os.path.abspath('')\n",
        "full_path = os.path.join(current_directory, 'sample.txt')\n",
        "main(full_path) #Replace with actual file path."
      ],
      "metadata": {
        "collapsed": true,
        "id": "stz-W3uLZmpo",
        "outputId": "e83b0078-d4e1-4dcf-d85e-c5572fc340f4",
        "colab": {
          "base_uri": "https://localhost:8080/"
        }
      },
      "execution_count": 73,
      "outputs": [
        {
          "output_type": "stream",
          "name": "stdout",
          "text": [
            "2030: 1\n",
            "agenda: 1\n",
            "sustainable: 2\n",
            "development: 2\n",
            "adopted: 1\n",
            "united: 1\n",
            "nations: 1\n",
            "member: 1\n",
            "states: 1\n",
            "2015: 1\n",
            "provides: 1\n",
            "shared: 1\n",
            "blueprint: 1\n",
            "peace: 1\n",
            "prosperity: 1\n",
            "people: 1\n",
            "planet: 1\n",
            "into: 1\n",
            "future: 1\n",
            "heart: 1\n",
            "17: 1\n",
            "goals: 1\n",
            "sdgs: 1\n",
            "which: 1\n",
            "urgent: 1\n",
            "call: 1\n",
            "action: 1\n",
            "countries: 1\n",
            "developed: 1\n",
            "developing: 1\n",
            "global: 1\n",
            "partnership: 1\n",
            "recognize: 1\n",
            "ending: 1\n",
            "poverty: 1\n",
            "deprivations: 1\n",
            "go: 1\n",
            "hand: 2\n",
            "strategies: 1\n",
            "improve: 1\n",
            "health: 1\n",
            "education: 1\n",
            "reduce: 1\n",
            "inequality: 1\n",
            "spur: 1\n",
            "economic: 1\n",
            "growth: 1\n",
            "tackling: 1\n",
            "climate: 1\n",
            "change: 1\n",
            "working: 1\n",
            "preserve: 1\n",
            "oceans: 1\n",
            "forests: 1\n"
          ]
        }
      ]
    },
    {
      "cell_type": "code",
      "source": [
        "# 5\n",
        "def compress_string(s: str) -> str:\n",
        "    if not isinstance(s, str):\n",
        "        raise ValueError(\"Input must be a string.\")\n",
        "    if len(s) == 0:\n",
        "        return \"\"\n",
        "\n",
        "    compressed_string = ''\n",
        "    current_char = s[0]\n",
        "    count = 1\n",
        "\n",
        "    for char in s[1:]:\n",
        "        if char == current_char:\n",
        "            count += 1\n",
        "        else:\n",
        "            compressed_string += f\"{current_char}{count}\"\n",
        "            current_char = char\n",
        "            count = 1\n",
        "    compressed_string += f\"{current_char}{count}\"  # Add the last group\n",
        "\n",
        "    return compressed_string if len(compressed_string) < len(s) else s\n",
        "\n",
        "# Test\n",
        "print(compress_string(\"aabcccccaaa\"))  # Output: \"a2b1c5a3\"\n",
        "print(compress_string(\"abcd\"))         # Output: \"abcd\" (no compression)\n",
        "print(compress_string(\"aabcccccad\"))   # Output: \"a2b1c5a1d1\""
      ],
      "metadata": {
        "id": "qNU74AXRmxZX",
        "outputId": "9b93ffc6-4b11-4d2e-ab48-96c8c44f3a5b",
        "colab": {
          "base_uri": "https://localhost:8080/"
        }
      },
      "execution_count": 76,
      "outputs": [
        {
          "output_type": "stream",
          "name": "stdout",
          "text": [
            "a2b1c5a3\n",
            "abcd\n",
            "aabcccccad\n"
          ]
        }
      ]
    }
  ]
}